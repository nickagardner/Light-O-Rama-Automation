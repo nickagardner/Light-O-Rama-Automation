{
 "cells": [
  {
   "cell_type": "markdown",
   "id": "1dfa94dc-8014-4a36-a92f-95e1cd050b75",
   "metadata": {},
   "source": [
    "# Model Training Notebook"
   ]
  },
  {
   "cell_type": "code",
   "execution_count": 12,
   "id": "58c6cafa-234a-41c2-92e0-6437d0047aad",
   "metadata": {},
   "outputs": [],
   "source": [
    "# system libraries\n",
    "import os\n",
    "import sys\n",
    "\n",
    "# data-science libraries\n",
    "%matplotlib widget\n",
    "import matplotlib.pyplot as plt\n",
    "import numpy as np\n",
    "\n",
    "import torch\n",
    "\n",
    "# add models folder to system path for importing\n",
    "sys.path.insert(0, 'models')\n",
    "\n",
    "# to save dataset and weights\n",
    "import pickle"
   ]
  },
  {
   "cell_type": "markdown",
   "id": "b316f8fe-852b-4514-b80e-e3b8f1119c28",
   "metadata": {
    "tags": []
   },
   "source": [
    "## Select Torch Device"
   ]
  },
  {
   "cell_type": "code",
   "execution_count": 13,
   "id": "bb68e164-7c36-475b-88f9-941b581b8539",
   "metadata": {},
   "outputs": [],
   "source": [
    "device = torch.device(\"mps\")"
   ]
  },
  {
   "cell_type": "markdown",
   "id": "da4e3e3c-5c5e-481e-bf3b-9f9b42db2782",
   "metadata": {},
   "source": [
    "## Data Preparation"
   ]
  },
  {
   "cell_type": "markdown",
   "id": "2bea5675-b8e8-4a17-bed5-57f70c530752",
   "metadata": {},
   "source": [
    "### Load Previously Saved Dataset"
   ]
  },
  {
   "cell_type": "code",
   "execution_count": 15,
   "id": "14b3bc7a-db04-426b-b526-32db2523bce8",
   "metadata": {},
   "outputs": [],
   "source": [
    "with open('datasets/dataset_1.pickle', 'rb') as file:\n",
    "    dataset = pickle.load(file)"
   ]
  },
  {
   "cell_type": "markdown",
   "id": "5ba6ab19-aa39-4833-801c-e4ae01bb1438",
   "metadata": {},
   "source": [
    "### Split Songs into Train and Valid"
   ]
  },
  {
   "cell_type": "code",
   "execution_count": 16,
   "id": "5335eb06-c32d-491e-a156-5c41ad789a46",
   "metadata": {},
   "outputs": [],
   "source": [
    "num_train_files = 10\n",
    "end_idx = np.sum(dataset.file_lengths[:10])\n",
    "train_dataset = torch.utils.data.Subset(dataset, np.arange(end_idx))\n",
    "valid_dataset = torch.utils.data.Subset(dataset, np.arange(end_idx, len(dataset)))\n",
    "\n",
    "train_dataloader = torch.utils.data.DataLoader(train_dataset, batch_size=64, shuffle=True)\n",
    "valid_dataloader = torch.utils.data.DataLoader(valid_dataset, batch_size=64, shuffle=True)"
   ]
  },
  {
   "cell_type": "code",
   "execution_count": 17,
   "id": "7d40364f-e329-442a-8dc7-b331d2eac657",
   "metadata": {},
   "outputs": [
    {
     "data": {
      "text/plain": [
       "torch.Size([68])"
      ]
     },
     "execution_count": 17,
     "metadata": {},
     "output_type": "execute_result"
    }
   ],
   "source": [
    "dataset[0][0].shape"
   ]
  },
  {
   "cell_type": "code",
   "execution_count": 18,
   "id": "5e24f622-79ca-42e9-9705-2803044a5290",
   "metadata": {},
   "outputs": [
    {
     "data": {
      "text/plain": [
       "torch.Size([48])"
      ]
     },
     "execution_count": 18,
     "metadata": {},
     "output_type": "execute_result"
    }
   ],
   "source": [
    "dataset[0][1].shape"
   ]
  },
  {
   "cell_type": "code",
   "execution_count": 19,
   "id": "fb215cf4-bdf8-4bfc-aee4-df60dc139b68",
   "metadata": {},
   "outputs": [
    {
     "data": {
      "text/plain": [
       "tensor(0.)"
      ]
     },
     "execution_count": 19,
     "metadata": {},
     "output_type": "execute_result"
    }
   ],
   "source": [
    "dataset[0][0][0]"
   ]
  },
  {
   "cell_type": "code",
   "execution_count": 20,
   "id": "fcfd8412-8a1b-4b34-9ba6-5964157df438",
   "metadata": {},
   "outputs": [
    {
     "name": "stdout",
     "output_type": "stream",
     "text": [
      "Length of train + length of valid == length of full? True\n"
     ]
    }
   ],
   "source": [
    "print(f\"Length of train + length of valid == length of full? {len(train_dataset) + len(valid_dataset) == len(dataset)}\")"
   ]
  },
  {
   "cell_type": "markdown",
   "id": "e6640d96-9b02-43c7-86a6-07e80ff0315f",
   "metadata": {},
   "source": [
    "## Model"
   ]
  },
  {
   "cell_type": "code",
   "execution_count": 34,
   "id": "bc5bc32c-1e44-4ca9-810e-784e2b507b90",
   "metadata": {},
   "outputs": [],
   "source": [
    "from exp3 import *\n",
    "\n",
    "def train():\n",
    "    model.train(True)\n",
    "    epoch_loss = 0\n",
    "    for (data, target) in train_dataloader:\n",
    "        optimizer.zero_grad()\n",
    "        data, target = data.to(device), target.to(device)\n",
    "        out = model(data)\n",
    "        loss = loss_func(out, target)\n",
    "        loss.backward()\n",
    "        optimizer.step()\n",
    "        epoch_loss += loss.item()\n",
    "    return epoch_loss\n",
    "\n",
    "def validate():\n",
    "    model.train(False)\n",
    "    epoch_loss = 0\n",
    "    for (data, target) in valid_dataloader:\n",
    "        data, target = data.to(device), target.to(device)\n",
    "        out = model(data)\n",
    "        loss = loss_func(out, target)\n",
    "        epoch_loss += loss.item()\n",
    "    return epoch_loss"
   ]
  },
  {
   "cell_type": "code",
   "execution_count": 35,
   "id": "b173c9c7-4a8c-43c9-8484-c97bb42696b6",
   "metadata": {},
   "outputs": [
    {
     "data": {
      "text/plain": [
       "SimpleLinear(\n",
       "  (activation): ReLU()\n",
       "  (dropout): Dropout(p=0.1, inplace=False)\n",
       "  (linear1): Linear(in_features=68, out_features=1024, bias=True)\n",
       "  (linear2): Linear(in_features=1024, out_features=512, bias=True)\n",
       "  (linear3): Linear(in_features=512, out_features=256, bias=True)\n",
       "  (linear4): Linear(in_features=256, out_features=128, bias=True)\n",
       "  (linear5): Linear(in_features=128, out_features=64, bias=True)\n",
       "  (linear6): Linear(in_features=64, out_features=48, bias=True)\n",
       ")"
      ]
     },
     "execution_count": 35,
     "metadata": {},
     "output_type": "execute_result"
    }
   ],
   "source": [
    "model = SimpleLinear()\n",
    "model.to(device)"
   ]
  },
  {
   "cell_type": "code",
   "execution_count": 36,
   "id": "e4ab1ff1-06bb-4acc-8245-484bda1b47a3",
   "metadata": {},
   "outputs": [],
   "source": [
    "loss_func = torch.nn.MSELoss()\n",
    "optimizer = torch.optim.Adam(model.parameters(), lr=0.001)"
   ]
  },
  {
   "cell_type": "code",
   "execution_count": 37,
   "id": "5baf6442-60aa-455d-a4ae-0ed5c1a33453",
   "metadata": {},
   "outputs": [
    {
     "data": {
      "text/plain": [
       "<matplotlib.legend.Legend at 0x7fb343a48190>"
      ]
     },
     "execution_count": 37,
     "metadata": {},
     "output_type": "execute_result"
    },
    {
     "data": {
      "application/vnd.jupyter.widget-view+json": {
       "model_id": "27b67a7f9ef8497987097229f0195b44",
       "version_major": 2,
       "version_minor": 0
      },
      "image/png": "[encoded data removed]",
      "text/html": [
       "\n",
       "            <div style=\"display: inline-block;\">\n",
       "                <div class=\"jupyter-widgets widget-label\" style=\"text-align: center;\">\n",
       "                    Figure\n",
       "                </div>\n",
       "                <img src='data:image/png;base64,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' width=640.0/>\n",
       "            </div>\n",
       "        "
      ],
      "text/plain": [
       "Canvas(toolbar=Toolbar(toolitems=[('Home', 'Reset original view', 'home', 'home'), ('Back', 'Back to previous …"
      ]
     },
     "metadata": {},
     "output_type": "display_data"
    }
   ],
   "source": [
    "full_train_loss_history = []\n",
    "full_valid_loss_history = []\n",
    "\n",
    "fig, ax = plt.subplots()\n",
    "ax.set(xlabel=\"Epoch\", ylabel=\"MSE Loss\")\n",
    "ax_loss_train, = ax.semilogy([], [], color=\"C0\", label=\"train\")\n",
    "ax_loss_valid, = ax.semilogy([], [], color=\"C1\", label=\"valid\")\n",
    "ax.legend()\n",
    "# fig.tight_layout()"
   ]
  },
  {
   "cell_type": "code",
   "execution_count": 38,
   "id": "59e5fd64-1c27-4b8a-8d65-db253bfd317b",
   "metadata": {
    "tags": []
   },
   "outputs": [
    {
     "ename": "KeyboardInterrupt",
     "evalue": "",
     "output_type": "error",
     "traceback": [
      "\u001b[0;31m---------------------------------------------------------------------------\u001b[0m",
      "\u001b[0;31mKeyboardInterrupt\u001b[0m                         Traceback (most recent call last)",
      "Cell \u001b[0;32mIn[38], line 2\u001b[0m\n\u001b[1;32m      1\u001b[0m \u001b[38;5;28;01mfor\u001b[39;00m epoch \u001b[38;5;129;01min\u001b[39;00m \u001b[38;5;28mrange\u001b[39m(\u001b[38;5;241m5000\u001b[39m):\n\u001b[0;32m----> 2\u001b[0m     full_train_loss_history\u001b[38;5;241m.\u001b[39mappend(\u001b[43mtrain\u001b[49m\u001b[43m(\u001b[49m\u001b[43m)\u001b[49m \u001b[38;5;241m/\u001b[39m \u001b[38;5;28mlen\u001b[39m(train_dataloader\u001b[38;5;241m.\u001b[39mdataset))\n\u001b[1;32m      3\u001b[0m     ax_loss_train\u001b[38;5;241m.\u001b[39mset_data(np\u001b[38;5;241m.\u001b[39marange(\u001b[38;5;241m1\u001b[39m, \u001b[38;5;28mlen\u001b[39m(full_train_loss_history)\u001b[38;5;241m+\u001b[39m\u001b[38;5;241m1\u001b[39m), full_train_loss_history)\n\u001b[1;32m      5\u001b[0m     full_valid_loss_history\u001b[38;5;241m.\u001b[39mappend(validate() \u001b[38;5;241m/\u001b[39m \u001b[38;5;28mlen\u001b[39m(valid_dataloader\u001b[38;5;241m.\u001b[39mdataset))\n",
      "Cell \u001b[0;32mIn[34], line 12\u001b[0m, in \u001b[0;36mtrain\u001b[0;34m()\u001b[0m\n\u001b[1;32m     10\u001b[0m     loss \u001b[38;5;241m=\u001b[39m loss_func(out, target)\n\u001b[1;32m     11\u001b[0m     loss\u001b[38;5;241m.\u001b[39mbackward()\n\u001b[0;32m---> 12\u001b[0m     \u001b[43moptimizer\u001b[49m\u001b[38;5;241;43m.\u001b[39;49m\u001b[43mstep\u001b[49m\u001b[43m(\u001b[49m\u001b[43m)\u001b[49m\n\u001b[1;32m     13\u001b[0m     epoch_loss \u001b[38;5;241m+\u001b[39m\u001b[38;5;241m=\u001b[39m loss\u001b[38;5;241m.\u001b[39mitem()\n\u001b[1;32m     14\u001b[0m \u001b[38;5;28;01mreturn\u001b[39;00m epoch_loss\n",
      "File \u001b[0;32m~/opt/anaconda3/envs/lor/lib/python3.10/site-packages/torch/optim/optimizer.py:219\u001b[0m, in \u001b[0;36mOptimizer.profile_hook_step.<locals>.wrapper\u001b[0;34m(*args, **kwargs)\u001b[0m\n\u001b[1;32m    215\u001b[0m         \u001b[38;5;28;01melse\u001b[39;00m:\n\u001b[1;32m    216\u001b[0m             \u001b[38;5;28;01mraise\u001b[39;00m \u001b[38;5;167;01mRuntimeError\u001b[39;00m(\u001b[38;5;124mf\u001b[39m\u001b[38;5;124m\"\u001b[39m\u001b[38;5;132;01m{\u001b[39;00mfunc\u001b[38;5;132;01m}\u001b[39;00m\u001b[38;5;124m must return None or a tuple of (new_args, new_kwargs),\u001b[39m\u001b[38;5;124m\"\u001b[39m\n\u001b[1;32m    217\u001b[0m                                \u001b[38;5;124mf\u001b[39m\u001b[38;5;124m\"\u001b[39m\u001b[38;5;124mbut got \u001b[39m\u001b[38;5;132;01m{\u001b[39;00mresult\u001b[38;5;132;01m}\u001b[39;00m\u001b[38;5;124m.\u001b[39m\u001b[38;5;124m\"\u001b[39m)\n\u001b[0;32m--> 219\u001b[0m out \u001b[38;5;241m=\u001b[39m \u001b[43mfunc\u001b[49m\u001b[43m(\u001b[49m\u001b[38;5;241;43m*\u001b[39;49m\u001b[43margs\u001b[49m\u001b[43m,\u001b[49m\u001b[43m \u001b[49m\u001b[38;5;241;43m*\u001b[39;49m\u001b[38;5;241;43m*\u001b[39;49m\u001b[43mkwargs\u001b[49m\u001b[43m)\u001b[49m\n\u001b[1;32m    220\u001b[0m \u001b[38;5;28mself\u001b[39m\u001b[38;5;241m.\u001b[39m_optimizer_step_code()\n\u001b[1;32m    222\u001b[0m \u001b[38;5;66;03m# call optimizer step post hooks\u001b[39;00m\n",
      "File \u001b[0;32m~/opt/anaconda3/envs/lor/lib/python3.10/site-packages/torch/optim/optimizer.py:32\u001b[0m, in \u001b[0;36m_use_grad_for_differentiable.<locals>._use_grad\u001b[0;34m(self, *args, **kwargs)\u001b[0m\n\u001b[1;32m     30\u001b[0m \u001b[38;5;28;01mtry\u001b[39;00m:\n\u001b[1;32m     31\u001b[0m     torch\u001b[38;5;241m.\u001b[39mset_grad_enabled(\u001b[38;5;28mself\u001b[39m\u001b[38;5;241m.\u001b[39mdefaults[\u001b[38;5;124m'\u001b[39m\u001b[38;5;124mdifferentiable\u001b[39m\u001b[38;5;124m'\u001b[39m])\n\u001b[0;32m---> 32\u001b[0m     ret \u001b[38;5;241m=\u001b[39m \u001b[43mfunc\u001b[49m\u001b[43m(\u001b[49m\u001b[38;5;28;43mself\u001b[39;49m\u001b[43m,\u001b[49m\u001b[43m \u001b[49m\u001b[38;5;241;43m*\u001b[39;49m\u001b[43margs\u001b[49m\u001b[43m,\u001b[49m\u001b[43m \u001b[49m\u001b[38;5;241;43m*\u001b[39;49m\u001b[38;5;241;43m*\u001b[39;49m\u001b[43mkwargs\u001b[49m\u001b[43m)\u001b[49m\n\u001b[1;32m     33\u001b[0m \u001b[38;5;28;01mfinally\u001b[39;00m:\n\u001b[1;32m     34\u001b[0m     torch\u001b[38;5;241m.\u001b[39mset_grad_enabled(prev_grad)\n",
      "File \u001b[0;32m~/opt/anaconda3/envs/lor/lib/python3.10/site-packages/torch/optim/adam.py:257\u001b[0m, in \u001b[0;36mAdam.step\u001b[0;34m(self, closure, grad_scaler)\u001b[0m\n\u001b[1;32m    245\u001b[0m     beta1, beta2 \u001b[38;5;241m=\u001b[39m group[\u001b[38;5;124m'\u001b[39m\u001b[38;5;124mbetas\u001b[39m\u001b[38;5;124m'\u001b[39m]\n\u001b[1;32m    247\u001b[0m     grad_scale, found_inf \u001b[38;5;241m=\u001b[39m \u001b[38;5;28mself\u001b[39m\u001b[38;5;241m.\u001b[39m_init_group(\n\u001b[1;32m    248\u001b[0m         group,\n\u001b[1;32m    249\u001b[0m         grad_scaler,\n\u001b[0;32m   (...)\u001b[0m\n\u001b[1;32m    254\u001b[0m         max_exp_avg_sqs,\n\u001b[1;32m    255\u001b[0m         state_steps)\n\u001b[0;32m--> 257\u001b[0m     \u001b[43madam\u001b[49m\u001b[43m(\u001b[49m\u001b[43mparams_with_grad\u001b[49m\u001b[43m,\u001b[49m\n\u001b[1;32m    258\u001b[0m \u001b[43m         \u001b[49m\u001b[43mgrads\u001b[49m\u001b[43m,\u001b[49m\n\u001b[1;32m    259\u001b[0m \u001b[43m         \u001b[49m\u001b[43mexp_avgs\u001b[49m\u001b[43m,\u001b[49m\n\u001b[1;32m    260\u001b[0m \u001b[43m         \u001b[49m\u001b[43mexp_avg_sqs\u001b[49m\u001b[43m,\u001b[49m\n\u001b[1;32m    261\u001b[0m \u001b[43m         \u001b[49m\u001b[43mmax_exp_avg_sqs\u001b[49m\u001b[43m,\u001b[49m\n\u001b[1;32m    262\u001b[0m \u001b[43m         \u001b[49m\u001b[43mstate_steps\u001b[49m\u001b[43m,\u001b[49m\n\u001b[1;32m    263\u001b[0m \u001b[43m         \u001b[49m\u001b[43mamsgrad\u001b[49m\u001b[38;5;241;43m=\u001b[39;49m\u001b[43mgroup\u001b[49m\u001b[43m[\u001b[49m\u001b[38;5;124;43m'\u001b[39;49m\u001b[38;5;124;43mamsgrad\u001b[39;49m\u001b[38;5;124;43m'\u001b[39;49m\u001b[43m]\u001b[49m\u001b[43m,\u001b[49m\n\u001b[1;32m    264\u001b[0m \u001b[43m         \u001b[49m\u001b[43mbeta1\u001b[49m\u001b[38;5;241;43m=\u001b[39;49m\u001b[43mbeta1\u001b[49m\u001b[43m,\u001b[49m\n\u001b[1;32m    265\u001b[0m \u001b[43m         \u001b[49m\u001b[43mbeta2\u001b[49m\u001b[38;5;241;43m=\u001b[39;49m\u001b[43mbeta2\u001b[49m\u001b[43m,\u001b[49m\n\u001b[1;32m    266\u001b[0m \u001b[43m         \u001b[49m\u001b[43mlr\u001b[49m\u001b[38;5;241;43m=\u001b[39;49m\u001b[43mgroup\u001b[49m\u001b[43m[\u001b[49m\u001b[38;5;124;43m'\u001b[39;49m\u001b[38;5;124;43mlr\u001b[39;49m\u001b[38;5;124;43m'\u001b[39;49m\u001b[43m]\u001b[49m\u001b[43m,\u001b[49m\n\u001b[1;32m    267\u001b[0m \u001b[43m         \u001b[49m\u001b[43mweight_decay\u001b[49m\u001b[38;5;241;43m=\u001b[39;49m\u001b[43mgroup\u001b[49m\u001b[43m[\u001b[49m\u001b[38;5;124;43m'\u001b[39;49m\u001b[38;5;124;43mweight_decay\u001b[39;49m\u001b[38;5;124;43m'\u001b[39;49m\u001b[43m]\u001b[49m\u001b[43m,\u001b[49m\n\u001b[1;32m    268\u001b[0m \u001b[43m         \u001b[49m\u001b[43meps\u001b[49m\u001b[38;5;241;43m=\u001b[39;49m\u001b[43mgroup\u001b[49m\u001b[43m[\u001b[49m\u001b[38;5;124;43m'\u001b[39;49m\u001b[38;5;124;43meps\u001b[39;49m\u001b[38;5;124;43m'\u001b[39;49m\u001b[43m]\u001b[49m\u001b[43m,\u001b[49m\n\u001b[1;32m    269\u001b[0m \u001b[43m         \u001b[49m\u001b[43mmaximize\u001b[49m\u001b[38;5;241;43m=\u001b[39;49m\u001b[43mgroup\u001b[49m\u001b[43m[\u001b[49m\u001b[38;5;124;43m'\u001b[39;49m\u001b[38;5;124;43mmaximize\u001b[39;49m\u001b[38;5;124;43m'\u001b[39;49m\u001b[43m]\u001b[49m\u001b[43m,\u001b[49m\n\u001b[1;32m    270\u001b[0m \u001b[43m         \u001b[49m\u001b[43mforeach\u001b[49m\u001b[38;5;241;43m=\u001b[39;49m\u001b[43mgroup\u001b[49m\u001b[43m[\u001b[49m\u001b[38;5;124;43m'\u001b[39;49m\u001b[38;5;124;43mforeach\u001b[39;49m\u001b[38;5;124;43m'\u001b[39;49m\u001b[43m]\u001b[49m\u001b[43m,\u001b[49m\n\u001b[1;32m    271\u001b[0m \u001b[43m         \u001b[49m\u001b[43mcapturable\u001b[49m\u001b[38;5;241;43m=\u001b[39;49m\u001b[43mgroup\u001b[49m\u001b[43m[\u001b[49m\u001b[38;5;124;43m'\u001b[39;49m\u001b[38;5;124;43mcapturable\u001b[39;49m\u001b[38;5;124;43m'\u001b[39;49m\u001b[43m]\u001b[49m\u001b[43m,\u001b[49m\n\u001b[1;32m    272\u001b[0m \u001b[43m         \u001b[49m\u001b[43mdifferentiable\u001b[49m\u001b[38;5;241;43m=\u001b[39;49m\u001b[43mgroup\u001b[49m\u001b[43m[\u001b[49m\u001b[38;5;124;43m'\u001b[39;49m\u001b[38;5;124;43mdifferentiable\u001b[39;49m\u001b[38;5;124;43m'\u001b[39;49m\u001b[43m]\u001b[49m\u001b[43m,\u001b[49m\n\u001b[1;32m    273\u001b[0m \u001b[43m         \u001b[49m\u001b[43mfused\u001b[49m\u001b[38;5;241;43m=\u001b[39;49m\u001b[43mgroup\u001b[49m\u001b[43m[\u001b[49m\u001b[38;5;124;43m'\u001b[39;49m\u001b[38;5;124;43mfused\u001b[39;49m\u001b[38;5;124;43m'\u001b[39;49m\u001b[43m]\u001b[49m\u001b[43m,\u001b[49m\n\u001b[1;32m    274\u001b[0m \u001b[43m         \u001b[49m\u001b[43mgrad_scale\u001b[49m\u001b[38;5;241;43m=\u001b[39;49m\u001b[43mgrad_scale\u001b[49m\u001b[43m,\u001b[49m\n\u001b[1;32m    275\u001b[0m \u001b[43m         \u001b[49m\u001b[43mfound_inf\u001b[49m\u001b[38;5;241;43m=\u001b[39;49m\u001b[43mfound_inf\u001b[49m\u001b[43m)\u001b[49m\n\u001b[1;32m    277\u001b[0m \u001b[38;5;28;01mreturn\u001b[39;00m loss\n",
      "File \u001b[0;32m~/opt/anaconda3/envs/lor/lib/python3.10/site-packages/torch/optim/adam.py:323\u001b[0m, in \u001b[0;36madam\u001b[0;34m(params, grads, exp_avgs, exp_avg_sqs, max_exp_avg_sqs, state_steps, foreach, capturable, differentiable, fused, grad_scale, found_inf, amsgrad, beta1, beta2, lr, weight_decay, eps, maximize)\u001b[0m\n\u001b[1;32m    320\u001b[0m \u001b[38;5;28;01melse\u001b[39;00m:\n\u001b[1;32m    321\u001b[0m     func \u001b[38;5;241m=\u001b[39m _single_tensor_adam\n\u001b[0;32m--> 323\u001b[0m \u001b[43mfunc\u001b[49m\u001b[43m(\u001b[49m\u001b[43mparams\u001b[49m\u001b[43m,\u001b[49m\n\u001b[1;32m    324\u001b[0m \u001b[43m     \u001b[49m\u001b[43mgrads\u001b[49m\u001b[43m,\u001b[49m\n\u001b[1;32m    325\u001b[0m \u001b[43m     \u001b[49m\u001b[43mexp_avgs\u001b[49m\u001b[43m,\u001b[49m\n\u001b[1;32m    326\u001b[0m \u001b[43m     \u001b[49m\u001b[43mexp_avg_sqs\u001b[49m\u001b[43m,\u001b[49m\n\u001b[1;32m    327\u001b[0m \u001b[43m     \u001b[49m\u001b[43mmax_exp_avg_sqs\u001b[49m\u001b[43m,\u001b[49m\n\u001b[1;32m    328\u001b[0m \u001b[43m     \u001b[49m\u001b[43mstate_steps\u001b[49m\u001b[43m,\u001b[49m\n\u001b[1;32m    329\u001b[0m \u001b[43m     \u001b[49m\u001b[43mamsgrad\u001b[49m\u001b[38;5;241;43m=\u001b[39;49m\u001b[43mamsgrad\u001b[49m\u001b[43m,\u001b[49m\n\u001b[1;32m    330\u001b[0m \u001b[43m     \u001b[49m\u001b[43mbeta1\u001b[49m\u001b[38;5;241;43m=\u001b[39;49m\u001b[43mbeta1\u001b[49m\u001b[43m,\u001b[49m\n\u001b[1;32m    331\u001b[0m \u001b[43m     \u001b[49m\u001b[43mbeta2\u001b[49m\u001b[38;5;241;43m=\u001b[39;49m\u001b[43mbeta2\u001b[49m\u001b[43m,\u001b[49m\n\u001b[1;32m    332\u001b[0m \u001b[43m     \u001b[49m\u001b[43mlr\u001b[49m\u001b[38;5;241;43m=\u001b[39;49m\u001b[43mlr\u001b[49m\u001b[43m,\u001b[49m\n\u001b[1;32m    333\u001b[0m \u001b[43m     \u001b[49m\u001b[43mweight_decay\u001b[49m\u001b[38;5;241;43m=\u001b[39;49m\u001b[43mweight_decay\u001b[49m\u001b[43m,\u001b[49m\n\u001b[1;32m    334\u001b[0m \u001b[43m     \u001b[49m\u001b[43meps\u001b[49m\u001b[38;5;241;43m=\u001b[39;49m\u001b[43meps\u001b[49m\u001b[43m,\u001b[49m\n\u001b[1;32m    335\u001b[0m \u001b[43m     \u001b[49m\u001b[43mmaximize\u001b[49m\u001b[38;5;241;43m=\u001b[39;49m\u001b[43mmaximize\u001b[49m\u001b[43m,\u001b[49m\n\u001b[1;32m    336\u001b[0m \u001b[43m     \u001b[49m\u001b[43mcapturable\u001b[49m\u001b[38;5;241;43m=\u001b[39;49m\u001b[43mcapturable\u001b[49m\u001b[43m,\u001b[49m\n\u001b[1;32m    337\u001b[0m \u001b[43m     \u001b[49m\u001b[43mdifferentiable\u001b[49m\u001b[38;5;241;43m=\u001b[39;49m\u001b[43mdifferentiable\u001b[49m\u001b[43m,\u001b[49m\n\u001b[1;32m    338\u001b[0m \u001b[43m     \u001b[49m\u001b[43mgrad_scale\u001b[49m\u001b[38;5;241;43m=\u001b[39;49m\u001b[43mgrad_scale\u001b[49m\u001b[43m,\u001b[49m\n\u001b[1;32m    339\u001b[0m \u001b[43m     \u001b[49m\u001b[43mfound_inf\u001b[49m\u001b[38;5;241;43m=\u001b[39;49m\u001b[43mfound_inf\u001b[49m\u001b[43m)\u001b[49m\n",
      "File \u001b[0;32m~/opt/anaconda3/envs/lor/lib/python3.10/site-packages/torch/optim/adam.py:387\u001b[0m, in \u001b[0;36m_single_tensor_adam\u001b[0;34m(params, grads, exp_avgs, exp_avg_sqs, max_exp_avg_sqs, state_steps, grad_scale, found_inf, amsgrad, beta1, beta2, lr, weight_decay, eps, maximize, capturable, differentiable)\u001b[0m\n\u001b[1;32m    385\u001b[0m \u001b[38;5;66;03m# Decay the first and second moment running average coefficient\u001b[39;00m\n\u001b[1;32m    386\u001b[0m exp_avg\u001b[38;5;241m.\u001b[39mmul_(beta1)\u001b[38;5;241m.\u001b[39madd_(grad, alpha\u001b[38;5;241m=\u001b[39m\u001b[38;5;241m1\u001b[39m \u001b[38;5;241m-\u001b[39m beta1)\n\u001b[0;32m--> 387\u001b[0m \u001b[43mexp_avg_sq\u001b[49m\u001b[38;5;241;43m.\u001b[39;49m\u001b[43mmul_\u001b[49m\u001b[43m(\u001b[49m\u001b[43mbeta2\u001b[49m\u001b[43m)\u001b[49m\u001b[38;5;241m.\u001b[39maddcmul_(grad, grad\u001b[38;5;241m.\u001b[39mconj(), value\u001b[38;5;241m=\u001b[39m\u001b[38;5;241m1\u001b[39m \u001b[38;5;241m-\u001b[39m beta2)\n\u001b[1;32m    389\u001b[0m \u001b[38;5;28;01mif\u001b[39;00m capturable \u001b[38;5;129;01mor\u001b[39;00m differentiable:\n\u001b[1;32m    390\u001b[0m     step \u001b[38;5;241m=\u001b[39m step_t\n",
      "\u001b[0;31mKeyboardInterrupt\u001b[0m: "
     ]
    }
   ],
   "source": [
    "for epoch in range(5000):\n",
    "    full_train_loss_history.append(train() / len(train_dataloader.dataset))\n",
    "    ax_loss_train.set_data(np.arange(1, len(full_train_loss_history)+1), full_train_loss_history)\n",
    "    \n",
    "    full_valid_loss_history.append(validate() / len(valid_dataloader.dataset))\n",
    "    ax_loss_valid.set_data(np.arange(1, len(full_valid_loss_history)+1), full_valid_loss_history)\n",
    "    \n",
    "    ax.relim()\n",
    "    ax.autoscale_view()\n",
    "    fig.canvas.draw()"
   ]
  },
  {
   "cell_type": "markdown",
   "id": "b9c2f4a7-c5fa-4d17-a504-05fb70aca59d",
   "metadata": {},
   "source": [
    "## Save Model"
   ]
  },
  {
   "cell_type": "code",
   "execution_count": null,
   "id": "4a1b72f4-766c-407f-9a4b-47f0931a3b74",
   "metadata": {},
   "outputs": [],
   "source": [
    " # torch.save(model.state_dict(), \"weights/exp3.pt\")"
   ]
  },
  {
   "cell_type": "code",
   "execution_count": null,
   "id": "ad012cfe-4bea-47c5-b5b4-7cda0e2c92db",
   "metadata": {},
   "outputs": [],
   "source": []
  }
 ],
 "metadata": {
  "kernelspec": {
   "display_name": "Python 3 (ipykernel)",
   "language": "python",
   "name": "python3"
  },
  "language_info": {
   "codemirror_mode": {
    "name": "ipython",
    "version": 3
   },
   "file_extension": ".py",
   "mimetype": "text/x-python",
   "name": "python",
   "nbconvert_exporter": "python",
   "pygments_lexer": "ipython3",
   "version": "3.10.8"
  }
 },
 "nbformat": 4,
 "nbformat_minor": 5
}
