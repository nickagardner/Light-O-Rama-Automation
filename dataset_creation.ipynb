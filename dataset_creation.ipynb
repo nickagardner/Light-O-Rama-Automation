{
 "cells": [
  {
   "cell_type": "markdown",
   "id": "ae00549b-c134-4778-9b9b-e3c81f4f2a95",
   "metadata": {
    "tags": []
   },
   "source": [
    "# Dataset Creation Notebook (Skip if using pre-loaded dataset)"
   ]
  },
  {
   "cell_type": "code",
   "execution_count": null,
   "id": "c261a44d-119b-48f3-97a0-11ff87d58295",
   "metadata": {},
   "outputs": [],
   "source": [
    "import os\n",
    "import pandas as pd\n",
    "\n",
    "import numpy as np\n",
    "from scipy import interpolate\n",
    "\n",
    "import torch\n",
    "\n",
    "# library for extracting short-term features from audio\n",
    "from pyAudioAnalysis import ShortTermFeatures as aF\n",
    "from pyAudioAnalysis import audioBasicIO as aIO \n",
    "\n",
    "# to save dataset and weights\n",
    "import pickle"
   ]
  },
  {
   "cell_type": "markdown",
   "id": "c58e12cc-64bf-42fb-be55-f9553c9ee098",
   "metadata": {},
   "source": [
    "## Relevant Files"
   ]
  },
  {
   "cell_type": "code",
   "execution_count": 2,
   "id": "87b59ece-a326-4d37-9da5-835908d7b997",
   "metadata": {},
   "outputs": [],
   "source": [
    "lms_files = [os.path.join(\"sequences\", file) for file in os.listdir(\"sequences\") if \".ipynb\" not in file and \".DS_Store\" not in file]\n",
    "lms_files.sort()\n",
    "mp3_files = [os.path.join(\"audio\", file) for file in os.listdir(\"audio\") if \".ipynb\" not in file and \".DS_Store\" not in file]\n",
    "mp3_files.sort()"
   ]
  },
  {
   "cell_type": "markdown",
   "id": "8b37a29b-6eb2-41b3-a308-6ad906d837e5",
   "metadata": {},
   "source": [
    "## Create Target Data"
   ]
  },
  {
   "cell_type": "code",
   "execution_count": 3,
   "id": "cc1b93bd-3820-4267-810c-2a0fef1dcc80",
   "metadata": {},
   "outputs": [],
   "source": [
    "dense_seqs = {}\n",
    "file_lengths = []\n",
    "for idx in range(len(lms_files)):\n",
    "    file = open(lms_files[idx])\n",
    "    lines = file.readlines()\n",
    "\n",
    "    sequences = []\n",
    "\n",
    "    for idx in range(len(lines)):\n",
    "        line = lines[idx].strip()\n",
    "        if \"<channel name=\" in line or line == \"<timingGrids>\":\n",
    "            sequence = []\n",
    "            while line != \"</channel>\" and line != \"</timingGrids>\":\n",
    "                line = lines[idx].strip()\n",
    "                sequence.append(line)\n",
    "                idx+=1\n",
    "            sequences.append(sequence)\n",
    "    timing_grid = sequences[-1][2:-2]\n",
    "    trim_sequences = sequences[:-1]\n",
    "    \n",
    "    timing_df = pd.DataFrame(columns=[\"time\"])\n",
    "    for line in timing_grid:\n",
    "        timing_df.loc[len(timing_df)] = [line.split('\"')[1]]\n",
    "    \n",
    "    sequence_df = pd.DataFrame(columns=[\"unit\", \"circuit\", \"type\", \"start\", \"end\", \"start_intensity\", \"end_intensity\"])\n",
    "    channel_df = pd.DataFrame(columns=[\"unit\", \"circuit\", \"name\", \"color\", \"length\"])\n",
    "    for sequence in trim_sequences:\n",
    "        for idx, line in enumerate(sequence):\n",
    "            line_arr = line.split('\"')\n",
    "            if idx == 0:\n",
    "                channel_name = line_arr[1]\n",
    "                color = int(line_arr[3])\n",
    "                length = int(line_arr[5])\n",
    "                unit = int(line_arr[9])\n",
    "                circuit = int(line_arr[11])\n",
    "                channel_df.loc[len(channel_df)] = [unit, circuit, channel_name, color, length]\n",
    "            elif idx == (len(sequence) - 1):\n",
    "                pass\n",
    "            else:\n",
    "                effect_type = 0 if line_arr[1] == \"intensity\" else 1\n",
    "                if len(line_arr) > 9:\n",
    "                    sequence_df.loc[len(sequence_df)] = [unit, circuit, effect_type, int(line_arr[3]), int(line_arr[5]), int(line_arr[7]), int(line_arr[9])]\n",
    "                else:\n",
    "                    sequence_df.loc[len(sequence_df)] = [unit, circuit, effect_type, int(line_arr[3]), int(line_arr[5]), int(line_arr[7]), int(line_arr[7])]\n",
    "    \n",
    "    file_lengths.append(int(channel_df.iloc[0][\"length\"]))\n",
    "    \n",
    "    for unit in np.unique(sequence_df[\"unit\"]):\n",
    "        if unit not in dense_seqs:\n",
    "            dense_seqs[unit] = {}\n",
    "\n",
    "        for circuit in np.unique(sequence_df[sequence_df[\"unit\"] == unit][\"circuit\"]):\n",
    "            seq = np.zeros(int(channel_df.iloc[0][\"length\"]))\n",
    "\n",
    "            sparse_seqs = sequence_df[(sequence_df[\"unit\"] == unit) & (sequence_df[\"circuit\"] == circuit)]\n",
    "            for idx, row in sparse_seqs.iterrows():\n",
    "                f = interpolate.interp1d([row[\"start\"], row[\"end\"]], [row[\"start_intensity\"], row[\"end_intensity\"]])\n",
    "                xnew = np.arange(row[\"start\"], row[\"end\"]+1, 1)\n",
    "                ynew = f(xnew)\n",
    "                seq[row[\"start\"]-1:row[\"end\"]] = ynew\n",
    "            \n",
    "            if circuit not in dense_seqs[unit]:\n",
    "                dense_seqs[unit][circuit] = seq\n",
    "            else:\n",
    "                dense_seqs[unit][circuit] = np.append(dense_seqs[unit][circuit], seq)"
   ]
  },
  {
   "cell_type": "markdown",
   "id": "18ae60d1-5e11-4e5f-ba34-11d1eae83893",
   "metadata": {},
   "source": [
    "### Create Full Input Data"
   ]
  },
  {
   "cell_type": "code",
   "execution_count": 5,
   "id": "48258202-8a76-4f8d-8a98-776f38860ed0",
   "metadata": {},
   "outputs": [],
   "source": [
    "full_signal = np.empty([np.sum(file_lengths), 68])\n",
    "arr_idx = 0\n",
    "for idx in range(len(mp3_files)):\n",
    "    frame_rate, signal = aIO.read_audio_file(mp3_files[idx])\n",
    "    signal = aIO.stereo_to_mono(signal)\n",
    "    \n",
    "    window, step = 0.01, 0.01\n",
    "    [features, feature_names] = aF.feature_extraction(signal, frame_rate, int(frame_rate * window), \n",
    "                                    int(frame_rate * step))\n",
    "    \n",
    "    features = features[:, :file_lengths[idx]].transpose()\n",
    "    \n",
    "    full_signal[arr_idx:arr_idx+file_lengths[idx]] = features\n",
    "    arr_idx += file_lengths[idx]"
   ]
  },
  {
   "cell_type": "code",
   "execution_count": 6,
   "id": "cacafd09-3fe9-4031-909d-5bffeeffa296",
   "metadata": {},
   "outputs": [
    {
     "data": {
      "text/plain": [
       "220247"
      ]
     },
     "execution_count": 6,
     "metadata": {},
     "output_type": "execute_result"
    }
   ],
   "source": [
    "len(full_signal)"
   ]
  },
  {
   "cell_type": "code",
   "execution_count": 7,
   "id": "59401d7c-ff2b-4d7b-b9b5-0379219a90a5",
   "metadata": {},
   "outputs": [
    {
     "data": {
      "text/plain": [
       "220247"
      ]
     },
     "execution_count": 7,
     "metadata": {},
     "output_type": "execute_result"
    }
   ],
   "source": [
    "len(dense_seqs[1][1])"
   ]
  },
  {
   "cell_type": "markdown",
   "id": "aa134a00-66f0-4699-9542-00546e2a3954",
   "metadata": {},
   "source": [
    "## Create Torch Dataset"
   ]
  },
  {
   "cell_type": "code",
   "execution_count": 2,
   "id": "571cb158-190e-47da-8661-ea9c15d1a815",
   "metadata": {},
   "outputs": [],
   "source": [
    "from LOR_dataset import LOR_Dataset"
   ]
  },
  {
   "cell_type": "code",
   "execution_count": 10,
   "id": "ca16cbaa-657d-4098-9182-21b781adfbc0",
   "metadata": {},
   "outputs": [],
   "source": [
    "dataset = LOR_Dataset(full_signal, dense_seqs, channel_df, file_lengths)"
   ]
  },
  {
   "cell_type": "markdown",
   "id": "39b9b54f-d9c4-42bc-b2de-ee6147761c0a",
   "metadata": {},
   "source": [
    "## Save Dataset for later\n"
   ]
  },
  {
   "cell_type": "code",
   "execution_count": 12,
   "id": "ec110d98-385d-4ef8-b682-3bbb73f0e698",
   "metadata": {},
   "outputs": [],
   "source": [
    "# with open('datasets/dataset_1.pickle', 'wb') as file:\n",
    "#     pickle.dump(dataset, file)"
   ]
  }
 ],
 "metadata": {
  "kernelspec": {
   "display_name": "Python 3 (ipykernel)",
   "language": "python",
   "name": "python3"
  },
  "language_info": {
   "codemirror_mode": {
    "name": "ipython",
    "version": 3
   },
   "file_extension": ".py",
   "mimetype": "text/x-python",
   "name": "python",
   "nbconvert_exporter": "python",
   "pygments_lexer": "ipython3",
   "version": "3.10.8"
  }
 },
 "nbformat": 4,
 "nbformat_minor": 5
}
